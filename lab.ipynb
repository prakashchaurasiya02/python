{
 "cells": [
  {
   "attachments": {},
   "cell_type": "markdown",
   "metadata": {},
   "source": [
    "1.Get an integer innput from a user.if the number is odd,then find the factorial of the number and find the number of digits in the factorial of the number.if the number is even,then check if the given number is a palindrome or not."
   ]
  },
  {
   "cell_type": "code",
   "execution_count": 1,
   "metadata": {},
   "outputs": [
    {
     "name": "stdout",
     "output_type": "stream",
     "text": [
      "factorial number is:: 6227020800\n",
      "Number of digits is:: 10\n"
     ]
    }
   ],
   "source": [
    "a=int(input(\"Enter the integer::\"))\n",
    "if a%2==0:\n",
    "    b=str(a)\n",
    "    c=b[::-1]\n",
    "    if str(a)==c:\n",
    "        print(\"pallindrome\")\n",
    "    else:\n",
    "        print(\"not pallindrome\")\n",
    "else:\n",
    "    fact=1\n",
    "    for i in range(1,a+1):\n",
    "              fact*=i\n",
    "    print(\"factorial number is::\",fact)\n",
    "    k=str(fact)\n",
    "    print(\"Number of digits is::\",len(k))"
   ]
  },
  {
   "attachments": {},
   "cell_type": "markdown",
   "metadata": {},
   "source": [
    "2.Given two strings, PRINT (YES or NO) whether the second string can be obtained from the first by deletion of none, one or more characters."
   ]
  },
  {
   "cell_type": "code",
   "execution_count": 3,
   "metadata": {},
   "outputs": [
    {
     "name": "stdout",
     "output_type": "stream",
     "text": [
      "YES\n"
     ]
    }
   ],
   "source": [
    "def check(a,b):\n",
    "    for i in b:\n",
    "        if i not in a:\n",
    "            return \"NO\"\n",
    "        return \"YES\"\n",
    "a=input(\"Enter the first string::\")\n",
    "b=input(\"Enter the second string::\")\n",
    "c=check(a,b)\n",
    "print(c)"
   ]
  }
 ],
 "metadata": {
  "kernelspec": {
   "display_name": "Python 3",
   "language": "python",
   "name": "python3"
  },
  "language_info": {
   "codemirror_mode": {
    "name": "ipython",
    "version": 3
   },
   "file_extension": ".py",
   "mimetype": "text/x-python",
   "name": "python",
   "nbconvert_exporter": "python",
   "pygments_lexer": "ipython3",
   "version": "3.10.8"
  },
  "orig_nbformat": 4
 },
 "nbformat": 4,
 "nbformat_minor": 2
}
